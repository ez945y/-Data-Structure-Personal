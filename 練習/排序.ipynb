{
 "cells": [
  {
   "cell_type": "code",
   "execution_count": 1,
   "id": "8e57757e",
   "metadata": {},
   "outputs": [],
   "source": [
    "arr = [3,44,32,66,2,64,22,8,15,16,11,34]"
   ]
  },
  {
   "cell_type": "code",
   "execution_count": 2,
   "id": "d515d3d2",
   "metadata": {},
   "outputs": [],
   "source": [
    "def swap(i,j):\n",
    "    tmp = arr[i]\n",
    "    arr[i] = arr[j]\n",
    "    arr[j] = tmp"
   ]
  },
  {
   "cell_type": "code",
   "execution_count": null,
   "id": "fea7d951",
   "metadata": {},
   "outputs": [],
   "source": [
    "def Heapify(arr, n, i):\n",
    "    if i>=n:return\n",
    "    l = 2 * i + 1\n",
    "    r = 2 * i + 2\n",
    "    max = i\n",
    "    if l < n and arr[i] < arr[l]:\n",
    "        max = l\n",
    "  \n",
    "    if r < n and arr[max] < arr[r]:\n",
    "        max = r\n",
    "  \n",
    "    if max != i:\n",
    "        arr[i],arr[max] = arr[max],arr[i]\n",
    "        Heapify(arr,n,max)\n",
    "\n",
    "def Build_heap(arr, n):\n",
    "    last = n-1\n",
    "    parent = (last -1)//2\n",
    "    for i in range(parent,0,-1):\n",
    "        Heapify(arr,n,i)\n",
    "\n",
    "def heapSort(arr):\n",
    "    n = len(arr)\n",
    "    Build_heap(arr,n)\n",
    "\n",
    "    for i in range(n-1, 0, -1):\n",
    "        arr[i], arr[0] = arr[0], arr[i]\n",
    "        Heapify(arr, i, 0)"
   ]
  },
  {
   "cell_type": "code",
   "execution_count": 32,
   "id": "228a0b36",
   "metadata": {},
   "outputs": [],
   "source": [
    "def part(arr,start,end):\n",
    "    pk = arr[start]\n",
    "    i = start -1\n",
    "    for j in range(start,end):\n",
    "        if arr[j]>=pk:\n",
    "            i += 1\n",
    "            arr[i],arr[j] = arr[j],arr[i]\n",
    "    arr[start], arr[i+1] = arr[i+1],arr[start]\n",
    "    return i+1"
   ]
  },
  {
   "cell_type": "code",
   "execution_count": 33,
   "id": "7fa1271d",
   "metadata": {},
   "outputs": [],
   "source": [
    "def sort(arr,start,end):\n",
    "    if start<end:\n",
    "        pk = part(arr,start,end)\n",
    "        sort(arr,0,pk-1)\n",
    "        sort(arr,pk+1,end)"
   ]
  },
  {
   "cell_type": "code",
   "execution_count": 34,
   "id": "e050819c",
   "metadata": {},
   "outputs": [
    {
     "name": "stdout",
     "output_type": "stream",
     "text": [
      "66\n",
      "22\n",
      "44\n",
      "64\n",
      "16\n",
      "32\n",
      "34\n",
      "11\n",
      "8\n",
      "3\n",
      "15\n",
      "2\n"
     ]
    }
   ],
   "source": [
    "sort(arr,0,len(arr)-1)\n",
    "for i in arr:\n",
    "    print(i)"
   ]
  },
  {
   "cell_type": "code",
   "execution_count": null,
   "id": "3e7349ed",
   "metadata": {},
   "outputs": [],
   "source": [
    "def inserction(arr):\n",
    "    for i in range(1,len(arr)):\n",
    "        temp = arr[i]\n",
    "        j = i-1\n",
    "        while j>=0 and temp < arr[j]:\n",
    "            arr[j]=arr[j-1]\n",
    "            j -=1\n",
    "        arr[j+1] =  temp\n",
    "from typing import List"
   ]
  },
  {
   "cell_type": "code",
   "execution_count": null,
   "id": "19b3cc02",
   "metadata": {},
   "outputs": [],
   "source": [
    "def shell_sort(arr:List[int]):\n",
    "    n = len(arr)\n",
    "    dist = n//2\n",
    "    while dist> 0:\n",
    "        for i in range(dist,n):\n",
    "            temp = arr[i]\n",
    "            j = i\n",
    "            while j>=dist and temp < arr[j-dist]:\n",
    "                arr[j]=arr[j-dist]\n",
    "                j -=dist\n",
    "            arr[j] =  temp\n",
    "        dist//=2"
   ]
  },
  {
   "cell_type": "code",
   "execution_count": null,
   "id": "faf46411",
   "metadata": {},
   "outputs": [],
   "source": [
    "if __name__ == '__main__':\n",
    "    import random\n",
    "    random.seed(54)\n",
    "    arr = [random.randint(0,100) for _ in range(10)]\n",
    "    print(\"原始數據：\", arr)\n",
    "    shell_sort(arr)\n",
    "    print(\"希爾排序结果：\", arr)"
   ]
  }
 ],
 "metadata": {
  "kernelspec": {
   "display_name": "Python 3 (ipykernel)",
   "language": "python",
   "name": "python3"
  },
  "language_info": {
   "codemirror_mode": {
    "name": "ipython",
    "version": 3
   },
   "file_extension": ".py",
   "mimetype": "text/x-python",
   "name": "python",
   "nbconvert_exporter": "python",
   "pygments_lexer": "ipython3",
   "version": "3.7.0"
  }
 },
 "nbformat": 4,
 "nbformat_minor": 5
}
